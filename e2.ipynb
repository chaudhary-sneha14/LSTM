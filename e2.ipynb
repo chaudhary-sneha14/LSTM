{
 "cells": [
  {
   "cell_type": "code",
   "execution_count": 1,
   "id": "2231a555",
   "metadata": {},
   "outputs": [],
   "source": [
    "import pandas as pd"
   ]
  },
  {
   "cell_type": "code",
   "execution_count": 2,
   "id": "32528094",
   "metadata": {},
   "outputs": [
    {
     "name": "stderr",
     "output_type": "stream",
     "text": [
      "[nltk_data] Downloading package gutenberg to C:\\Users\\Sneha\n",
      "[nltk_data]     Chaudhary\\AppData\\Roaming\\nltk_data...\n",
      "[nltk_data]   Package gutenberg is already up-to-date!\n"
     ]
    }
   ],
   "source": [
    "#Data collection\n",
    "\n",
    "import nltk\n",
    "nltk.download('gutenberg')\n",
    "from nltk.corpus import gutenberg\n",
    "import pandas as pd\n",
    "\n",
    "\n",
    "#load the dataset\n",
    "data=gutenberg.raw('shakespeare-hamlet.txt')\n",
    "\n",
    "#save to a file\n",
    "with open('hamlet.txt','w') as file:\n",
    "    file.write(data)\n"
   ]
  },
  {
   "cell_type": "code",
   "execution_count": 6,
   "id": "a5d810b6",
   "metadata": {},
   "outputs": [
    {
     "data": {
      "text/plain": [
       "4818"
      ]
     },
     "execution_count": 6,
     "metadata": {},
     "output_type": "execute_result"
    }
   ],
   "source": [
    "import numpy as np\n",
    "from tensorflow.keras.preprocessing.text import Tokenizer\n",
    "from tensorflow.keras.preprocessing.sequence import pad_sequences\n",
    "from sklearn.model_selection import train_test_split\n",
    "\n",
    "#load dataset\n",
    "with open('hamlet.txt','r') as file:\n",
    "    text=file.read().lower()\n",
    "\n",
    "#tokenize the text-creating index for word\n",
    "tokenizer=Tokenizer()\n",
    "tokenizer.fit_on_texts([text])\n",
    "total_words=len(tokenizer.word_index)+1\n",
    "total_words    \n"
   ]
  },
  {
   "cell_type": "code",
   "execution_count": 7,
   "id": "ffc193d7",
   "metadata": {},
   "outputs": [],
   "source": [
    "#create input sequences\n",
    "input_sequences = []\n",
    "\n",
    "for line in text.split('\\n'):                      # iterate over each line in your dataset\n",
    "    token_list = tokenizer.texts_to_sequences([line])[0]  \n",
    "    # convert words in the line to their integer tokens\n",
    "\n",
    "    for i in range(1, len(token_list)):            # build subsequences of increasing length\n",
    "        n_gram_sequence = token_list[:i+1]         # take the first (i+1) tokens\n",
    "        input_sequences.append(n_gram_sequence)    # add it to the list\n"
   ]
  },
  {
   "cell_type": "code",
   "execution_count": null,
   "id": "27007380",
   "metadata": {},
   "outputs": [],
   "source": [
    "input_sequences\n"
   ]
  },
  {
   "cell_type": "code",
   "execution_count": null,
   "id": "6a1c397b",
   "metadata": {},
   "outputs": [],
   "source": [
    "#pad sequences\n",
    "max_sequence_len=max([len(x) for x in input_sequences])  #calculating the maximum sequence length from your input_sequences.\n",
    "max_sequence_len  #length you’ll use to pad all sequences so they match."
   ]
  },
  {
   "cell_type": "code",
   "execution_count": null,
   "id": "f1c1ed22",
   "metadata": {},
   "outputs": [],
   "source": [
    "input_sequences=np.array(pad_sequences(input_sequences,maxlen=max_sequence_len,padding='pre'))\n",
    "input_sequences"
   ]
  },
  {
   "cell_type": "code",
   "execution_count": null,
   "id": "ffcd3319",
   "metadata": {},
   "outputs": [],
   "source": [
    "# create predictiors and label\n",
    "\n",
    "import tensorflow as tf\n",
    "x = input_sequences[:, :-1]   # all tokens except the last one\n",
    "y = input_sequences[:, -1]    # the last token (label)\n"
   ]
  },
  {
   "cell_type": "code",
   "execution_count": null,
   "id": "3015ee15",
   "metadata": {},
   "outputs": [],
   "source": [
    "y=tf.keras.utils.to_categorical(y,num_classes=total_words)  #converted y into a one-hot encoded matrix\n",
    "y \n"
   ]
  },
  {
   "cell_type": "code",
   "execution_count": null,
   "id": "a43fe520",
   "metadata": {},
   "outputs": [],
   "source": [
    "x_train,x_test,y_train,y_test=train_test_split(x,y,test_size=0.2)"
   ]
  },
  {
   "cell_type": "code",
   "execution_count": null,
   "id": "190ef4ff",
   "metadata": {},
   "outputs": [],
   "source": [
    "# Train our LSTM and RNN\n",
    "\n",
    "from tensorflow.keras.models import Sequential\n",
    "from tensorflow.keras.layers import Embedding,LSTM,Dense,Dropout\n",
    "\n",
    "\n",
    "##Define the model\n",
    "model=Sequential()\n",
    "model.add(Embedding(total_words,100,input_length=max_sequence_len-1))\n",
    "model.add(LSTM(150,return_sequences=True))\n",
    "model.add(Dropout(0.2))\n",
    "model.add(LSTM(100))\n",
    "model.add(Dense(total_words,activation='softmax'))\n",
    "\n",
    "model.compile(loss='categorical_crossentropy',optimizer='adam',metrics=['accuracy'])\n",
    "\n"
   ]
  },
  {
   "cell_type": "code",
   "execution_count": null,
   "id": "ae3c6de5",
   "metadata": {},
   "outputs": [],
   "source": [
    "model.summary()"
   ]
  },
  {
   "cell_type": "code",
   "execution_count": null,
   "id": "fcbc6e75",
   "metadata": {},
   "outputs": [],
   "source": [
    "#train the model\n",
    "\n",
    "history=model.fit(x_train,y_train,epochs=50,validation_data=(x_test,y_test),verbose=1)"
   ]
  },
  {
   "cell_type": "code",
   "execution_count": null,
   "id": "ce55b4be",
   "metadata": {},
   "outputs": [],
   "source": [
    "#prediction\n",
    "\n",
    "def predict_next_word(model,tokenizer,text,max_sequence_len):\n",
    "    token_list = tokenizer.texts_to_sequences([text])[0] \n",
    "\n",
    "    if len(token_list)>=max_sequence_len:\n",
    "        token_list=token_list[-(max_sequence_len-1):] #sequence is longer than max_sequence_len, keep only the last max_sequence_len-1 tokens\n",
    "\n",
    "    token_list=pad_sequences([token_list],maxlen=max_sequence_len-1,padding='pre')\n",
    "\n",
    "    predicted=model.predict(token_list,verbose=0)\n",
    "\n",
    "    predicted_word_index=np.argmax(predicted,axis=1) #returns the index of the maximum probability along axis 1 \n",
    "    \n",
    "    for word,index in tokenizer.word_index.items():\n",
    "        if index==predicted_word_index:\n",
    "            return word\n",
    "    return None     "
   ]
  },
  {
   "cell_type": "code",
   "execution_count": null,
   "id": "a77f0147",
   "metadata": {},
   "outputs": [],
   "source": [
    "input_text=\"Mar.Horatio saies, 'tis but our\"\n",
    "print(f\"Input text:{input_text}\")\n",
    "max_sequence_len=model.input_shape[1]+1\n",
    "next_word=predict_next_word(model,tokenizer,input_text,max_sequence_len)\n",
    "print(f\"Next word prediction:{next_word}\")"
   ]
  },
  {
   "cell_type": "code",
   "execution_count": null,
   "id": "24fae434",
   "metadata": {},
   "outputs": [],
   "source": [
    "\n",
    "\n",
    "# Save the model (TensorFlow native format, no h5py needed)\n",
    "model.save(\"next_word_lstm\")\n",
    "  # creates a folder\n",
    "\n",
    "import pickle\n",
    "# Save the tokenizer\n",
    "with open('tokenizer.pickle', 'wb') as handle:\n",
    "    pickle.dump(tokenizer, handle, protocol=pickle.HIGHEST_PROTOCOL)\n"
   ]
  },
  {
   "cell_type": "code",
   "execution_count": null,
   "id": "359dcfa0",
   "metadata": {},
   "outputs": [],
   "source": []
  }
 ],
 "metadata": {
  "kernelspec": {
   "display_name": "Python 3",
   "language": "python",
   "name": "python3"
  },
  "language_info": {
   "codemirror_mode": {
    "name": "ipython",
    "version": 3
   },
   "file_extension": ".py",
   "mimetype": "text/x-python",
   "name": "python",
   "nbconvert_exporter": "python",
   "pygments_lexer": "ipython3",
   "version": "3.8.0"
  }
 },
 "nbformat": 4,
 "nbformat_minor": 5
}
